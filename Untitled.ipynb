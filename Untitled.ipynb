{
 "cells": [
  {
   "cell_type": "code",
   "execution_count": 1,
   "id": "fe91afca-df03-4c52-850b-c549d106eb32",
   "metadata": {},
   "outputs": [],
   "source": [
    "import pandas as pd"
   ]
  },
  {
   "cell_type": "code",
   "execution_count": 2,
   "id": "3580b2ab-5cfb-4b3b-a272-40af054b6330",
   "metadata": {},
   "outputs": [
    {
     "name": "stderr",
     "output_type": "stream",
     "text": [
      "D:\\temp\\ipykernel_7064\\1884334596.py:1: DtypeWarning: Columns (8,10,28,29) have mixed types. Specify dtype option on import or set low_memory=False.\n",
      "  df = pd.read_csv(\"AccidentsBig.csv\")\n"
     ]
    }
   ],
   "source": [
    "df = pd.read_csv(\"AccidentsBig.csv\")"
   ]
  },
  {
   "cell_type": "code",
   "execution_count": 3,
   "id": "036e03c0-a3e1-4782-97e1-143f2a485223",
   "metadata": {},
   "outputs": [
    {
     "name": "stdout",
     "output_type": "stream",
     "text": [
      "<class 'pandas.core.frame.DataFrame'>\n",
      "RangeIndex: 1048575 entries, 0 to 1048574\n",
      "Data columns (total 30 columns):\n",
      " #   Column                                       Non-Null Count  Dtype  \n",
      "---  ------                                       --------------  -----  \n",
      " 0   Accident_Index                               59998 non-null  float64\n",
      " 1   longitude                                    59998 non-null  float64\n",
      " 2   latitude                                     59998 non-null  float64\n",
      " 3   Police_Force                                 59998 non-null  float64\n",
      " 4   Accident_Severity                            59998 non-null  float64\n",
      " 5   Number_of_Vehicles                           59998 non-null  float64\n",
      " 6   Number_of_Casualties                         59998 non-null  float64\n",
      " 7   Day_of_Week                                  59998 non-null  float64\n",
      " 8   Time                                         59997 non-null  object \n",
      " 9   Local_Authority_(District)                   59998 non-null  float64\n",
      " 10  Local_Authority_(Highway)                    59998 non-null  object \n",
      " 11  1st_Road_Class                               59998 non-null  float64\n",
      " 12  1st_Road_Number                              59998 non-null  float64\n",
      " 13  Road_Type                                    59998 non-null  float64\n",
      " 14  Speed_limit                                  59998 non-null  float64\n",
      " 15  Junction_Detail                              59998 non-null  float64\n",
      " 16  Junction_Control                             59998 non-null  float64\n",
      " 17  2nd_Road_Class                               59998 non-null  float64\n",
      " 18  2nd_Road_Number                              59998 non-null  float64\n",
      " 19  Pedestrian_Crossing-Human_Control            59998 non-null  float64\n",
      " 20  Pedestrian_Crossing-Physical_Facilities      59998 non-null  float64\n",
      " 21  Light_Conditions                             59998 non-null  float64\n",
      " 22  Weather_Conditions                           59998 non-null  float64\n",
      " 23  Road_Surface_Conditions                      59998 non-null  float64\n",
      " 24  Special_Conditions_at_Site                   59998 non-null  float64\n",
      " 25  Carriageway_Hazards                          59998 non-null  float64\n",
      " 26  Urban_or_Rural_Area                          59998 non-null  float64\n",
      " 27  Did_Police_Officer_Attend_Scene_of_Accident  59998 non-null  float64\n",
      " 28  LSOA_of_Accident_Location                    59901 non-null  object \n",
      " 29  Date                                         59998 non-null  object \n",
      "dtypes: float64(26), object(4)\n",
      "memory usage: 240.0+ MB\n"
     ]
    }
   ],
   "source": [
    "df.info()"
   ]
  },
  {
   "cell_type": "code",
   "execution_count": 4,
   "id": "b5ddf218-32b0-41df-95c2-3aabcb6cb42d",
   "metadata": {},
   "outputs": [
    {
     "data": {
      "text/plain": [
       "Index(['Accident_Index', 'longitude', 'latitude', 'Police_Force',\n",
       "       'Accident_Severity', 'Number_of_Vehicles', 'Number_of_Casualties',\n",
       "       'Day_of_Week', 'Time', 'Local_Authority_(District)',\n",
       "       'Local_Authority_(Highway)', '1st_Road_Class', '1st_Road_Number',\n",
       "       'Road_Type', 'Speed_limit', 'Junction_Detail', 'Junction_Control',\n",
       "       '2nd_Road_Class', '2nd_Road_Number',\n",
       "       'Pedestrian_Crossing-Human_Control',\n",
       "       'Pedestrian_Crossing-Physical_Facilities', 'Light_Conditions',\n",
       "       'Weather_Conditions', 'Road_Surface_Conditions',\n",
       "       'Special_Conditions_at_Site', 'Carriageway_Hazards',\n",
       "       'Urban_or_Rural_Area', 'Did_Police_Officer_Attend_Scene_of_Accident',\n",
       "       'LSOA_of_Accident_Location', 'Date'],\n",
       "      dtype='object')"
      ]
     },
     "execution_count": 4,
     "metadata": {},
     "output_type": "execute_result"
    }
   ],
   "source": [
    "df.columns"
   ]
  },
  {
   "cell_type": "code",
   "execution_count": 5,
   "id": "e68b46dc-6246-453d-8b61-1a53d540a244",
   "metadata": {},
   "outputs": [
    {
     "data": {
      "text/plain": [
       "Accident_Index                                 59998\n",
       "longitude                                      59998\n",
       "latitude                                       59998\n",
       "Police_Force                                   59998\n",
       "Accident_Severity                              59998\n",
       "Number_of_Vehicles                             59998\n",
       "Number_of_Casualties                           59998\n",
       "Day_of_Week                                    59998\n",
       "Time                                           59997\n",
       "Local_Authority_(District)                     59998\n",
       "Local_Authority_(Highway)                      59998\n",
       "1st_Road_Class                                 59998\n",
       "1st_Road_Number                                59998\n",
       "Road_Type                                      59998\n",
       "Speed_limit                                    59998\n",
       "Junction_Detail                                59998\n",
       "Junction_Control                               59998\n",
       "2nd_Road_Class                                 59998\n",
       "2nd_Road_Number                                59998\n",
       "Pedestrian_Crossing-Human_Control              59998\n",
       "Pedestrian_Crossing-Physical_Facilities        59998\n",
       "Light_Conditions                               59998\n",
       "Weather_Conditions                             59998\n",
       "Road_Surface_Conditions                        59998\n",
       "Special_Conditions_at_Site                     59998\n",
       "Carriageway_Hazards                            59998\n",
       "Urban_or_Rural_Area                            59998\n",
       "Did_Police_Officer_Attend_Scene_of_Accident    59998\n",
       "LSOA_of_Accident_Location                      59901\n",
       "Date                                           59998\n",
       "dtype: int64"
      ]
     },
     "execution_count": 5,
     "metadata": {},
     "output_type": "execute_result"
    }
   ],
   "source": [
    "df.count()"
   ]
  },
  {
   "cell_type": "code",
   "execution_count": 6,
   "id": "6a8979b0-dde0-4e78-987e-6e8db364c23a",
   "metadata": {},
   "outputs": [],
   "source": [
    "# To show the all columns\n",
    "pd.set_option(\"display.max_columns\", 2000)\n"
   ]
  },
  {
   "cell_type": "code",
   "execution_count": 7,
   "id": "28ca318d-ad33-42f1-9127-1ff38ba9145c",
   "metadata": {},
   "outputs": [],
   "source": [
    "pd.set_option(\"display.max_rows\", 85)"
   ]
  },
  {
   "cell_type": "code",
   "execution_count": 8,
   "id": "d5258d2d-b4cd-4da3-9be0-d3ecbf06c70c",
   "metadata": {},
   "outputs": [
    {
     "data": {
      "text/plain": [
       "Index(['Accident_Index', 'longitude', 'latitude', 'Police_Force',\n",
       "       'Accident_Severity', 'Number_of_Vehicles', 'Number_of_Casualties',\n",
       "       'Day_of_Week', 'Time', 'Local_Authority_(District)',\n",
       "       'Local_Authority_(Highway)', '1st_Road_Class', '1st_Road_Number',\n",
       "       'Road_Type', 'Speed_limit', 'Junction_Detail', 'Junction_Control',\n",
       "       '2nd_Road_Class', '2nd_Road_Number',\n",
       "       'Pedestrian_Crossing-Human_Control',\n",
       "       'Pedestrian_Crossing-Physical_Facilities', 'Light_Conditions',\n",
       "       'Weather_Conditions', 'Road_Surface_Conditions',\n",
       "       'Special_Conditions_at_Site', 'Carriageway_Hazards',\n",
       "       'Urban_or_Rural_Area', 'Did_Police_Officer_Attend_Scene_of_Accident',\n",
       "       'LSOA_of_Accident_Location', 'Date'],\n",
       "      dtype='object')"
      ]
     },
     "execution_count": 8,
     "metadata": {},
     "output_type": "execute_result"
    }
   ],
   "source": [
    "df.columns"
   ]
  },
  {
   "cell_type": "code",
   "execution_count": 9,
   "id": "dab69b3f-6feb-40b8-8a58-dfdc635815ea",
   "metadata": {},
   "outputs": [
    {
     "name": "stderr",
     "output_type": "stream",
     "text": [
      "D:\\temp\\ipykernel_7064\\679993967.py:1: FutureWarning: A value is trying to be set on a copy of a DataFrame or Series through chained assignment using an inplace method.\n",
      "The behavior will change in pandas 3.0. This inplace method will never work because the intermediate object on which we are setting values always behaves as a copy.\n",
      "\n",
      "For example, when doing 'df[col].method(value, inplace=True)', try using 'df.method({col: value}, inplace=True)' or df[col] = df[col].method(value) instead, to perform the operation inplace on the original object.\n",
      "\n",
      "\n",
      "  df['Accident_Index'].fillna(df['Accident_Index'].mean(), inplace=True)\n",
      "D:\\temp\\ipykernel_7064\\679993967.py:2: FutureWarning: A value is trying to be set on a copy of a DataFrame or Series through chained assignment using an inplace method.\n",
      "The behavior will change in pandas 3.0. This inplace method will never work because the intermediate object on which we are setting values always behaves as a copy.\n",
      "\n",
      "For example, when doing 'df[col].method(value, inplace=True)', try using 'df.method({col: value}, inplace=True)' or df[col] = df[col].method(value) instead, to perform the operation inplace on the original object.\n",
      "\n",
      "\n",
      "  df['longitude'].fillna(df['longitude'].mean(), inplace=True)\n",
      "D:\\temp\\ipykernel_7064\\679993967.py:3: FutureWarning: A value is trying to be set on a copy of a DataFrame or Series through chained assignment using an inplace method.\n",
      "The behavior will change in pandas 3.0. This inplace method will never work because the intermediate object on which we are setting values always behaves as a copy.\n",
      "\n",
      "For example, when doing 'df[col].method(value, inplace=True)', try using 'df.method({col: value}, inplace=True)' or df[col] = df[col].method(value) instead, to perform the operation inplace on the original object.\n",
      "\n",
      "\n",
      "  df['latitude'].fillna(df['latitude'].mean(), inplace=True)\n",
      "D:\\temp\\ipykernel_7064\\679993967.py:4: FutureWarning: A value is trying to be set on a copy of a DataFrame or Series through chained assignment using an inplace method.\n",
      "The behavior will change in pandas 3.0. This inplace method will never work because the intermediate object on which we are setting values always behaves as a copy.\n",
      "\n",
      "For example, when doing 'df[col].method(value, inplace=True)', try using 'df.method({col: value}, inplace=True)' or df[col] = df[col].method(value) instead, to perform the operation inplace on the original object.\n",
      "\n",
      "\n",
      "  df['Police_Force'].fillna(df['Police_Force'].mean(), inplace=True)\n",
      "D:\\temp\\ipykernel_7064\\679993967.py:5: FutureWarning: A value is trying to be set on a copy of a DataFrame or Series through chained assignment using an inplace method.\n",
      "The behavior will change in pandas 3.0. This inplace method will never work because the intermediate object on which we are setting values always behaves as a copy.\n",
      "\n",
      "For example, when doing 'df[col].method(value, inplace=True)', try using 'df.method({col: value}, inplace=True)' or df[col] = df[col].method(value) instead, to perform the operation inplace on the original object.\n",
      "\n",
      "\n",
      "  df['Accident_Severity'].fillna(df['Accident_Severity'].mean(), inplace=True)\n",
      "D:\\temp\\ipykernel_7064\\679993967.py:6: FutureWarning: A value is trying to be set on a copy of a DataFrame or Series through chained assignment using an inplace method.\n",
      "The behavior will change in pandas 3.0. This inplace method will never work because the intermediate object on which we are setting values always behaves as a copy.\n",
      "\n",
      "For example, when doing 'df[col].method(value, inplace=True)', try using 'df.method({col: value}, inplace=True)' or df[col] = df[col].method(value) instead, to perform the operation inplace on the original object.\n",
      "\n",
      "\n",
      "  df['Number_of_Vehicles'].fillna(df['Number_of_Vehicles'].mean(), inplace=True)\n",
      "D:\\temp\\ipykernel_7064\\679993967.py:7: FutureWarning: A value is trying to be set on a copy of a DataFrame or Series through chained assignment using an inplace method.\n",
      "The behavior will change in pandas 3.0. This inplace method will never work because the intermediate object on which we are setting values always behaves as a copy.\n",
      "\n",
      "For example, when doing 'df[col].method(value, inplace=True)', try using 'df.method({col: value}, inplace=True)' or df[col] = df[col].method(value) instead, to perform the operation inplace on the original object.\n",
      "\n",
      "\n",
      "  df['Number_of_Casualties'].fillna(df['Number_of_Casualties'].mean(), inplace=True)\n",
      "D:\\temp\\ipykernel_7064\\679993967.py:8: FutureWarning: A value is trying to be set on a copy of a DataFrame or Series through chained assignment using an inplace method.\n",
      "The behavior will change in pandas 3.0. This inplace method will never work because the intermediate object on which we are setting values always behaves as a copy.\n",
      "\n",
      "For example, when doing 'df[col].method(value, inplace=True)', try using 'df.method({col: value}, inplace=True)' or df[col] = df[col].method(value) instead, to perform the operation inplace on the original object.\n",
      "\n",
      "\n",
      "  df['Day_of_Week'].fillna(df['Day_of_Week'].mean(), inplace=True)\n"
     ]
    },
    {
     "ename": "KeyError",
     "evalue": "'Local_Authority_(District)\\t'",
     "output_type": "error",
     "traceback": [
      "\u001b[1;31m---------------------------------------------------------------------------\u001b[0m",
      "\u001b[1;31mKeyError\u001b[0m                                  Traceback (most recent call last)",
      "File \u001b[1;32m~\\anaconda3\\Lib\\site-packages\\pandas\\core\\indexes\\base.py:3805\u001b[0m, in \u001b[0;36mIndex.get_loc\u001b[1;34m(self, key)\u001b[0m\n\u001b[0;32m   3804\u001b[0m \u001b[38;5;28;01mtry\u001b[39;00m:\n\u001b[1;32m-> 3805\u001b[0m     \u001b[38;5;28;01mreturn\u001b[39;00m \u001b[38;5;28mself\u001b[39m\u001b[38;5;241m.\u001b[39m_engine\u001b[38;5;241m.\u001b[39mget_loc(casted_key)\n\u001b[0;32m   3806\u001b[0m \u001b[38;5;28;01mexcept\u001b[39;00m \u001b[38;5;167;01mKeyError\u001b[39;00m \u001b[38;5;28;01mas\u001b[39;00m err:\n",
      "File \u001b[1;32mindex.pyx:167\u001b[0m, in \u001b[0;36mpandas._libs.index.IndexEngine.get_loc\u001b[1;34m()\u001b[0m\n",
      "File \u001b[1;32mindex.pyx:196\u001b[0m, in \u001b[0;36mpandas._libs.index.IndexEngine.get_loc\u001b[1;34m()\u001b[0m\n",
      "File \u001b[1;32mpandas\\\\_libs\\\\hashtable_class_helper.pxi:7081\u001b[0m, in \u001b[0;36mpandas._libs.hashtable.PyObjectHashTable.get_item\u001b[1;34m()\u001b[0m\n",
      "File \u001b[1;32mpandas\\\\_libs\\\\hashtable_class_helper.pxi:7089\u001b[0m, in \u001b[0;36mpandas._libs.hashtable.PyObjectHashTable.get_item\u001b[1;34m()\u001b[0m\n",
      "\u001b[1;31mKeyError\u001b[0m: 'Local_Authority_(District)\\t'",
      "\nThe above exception was the direct cause of the following exception:\n",
      "\u001b[1;31mKeyError\u001b[0m                                  Traceback (most recent call last)",
      "Cell \u001b[1;32mIn[9], line 9\u001b[0m\n\u001b[0;32m      7\u001b[0m df[\u001b[38;5;124m'\u001b[39m\u001b[38;5;124mNumber_of_Casualties\u001b[39m\u001b[38;5;124m'\u001b[39m]\u001b[38;5;241m.\u001b[39mfillna(df[\u001b[38;5;124m'\u001b[39m\u001b[38;5;124mNumber_of_Casualties\u001b[39m\u001b[38;5;124m'\u001b[39m]\u001b[38;5;241m.\u001b[39mmean(), inplace\u001b[38;5;241m=\u001b[39m\u001b[38;5;28;01mTrue\u001b[39;00m)\n\u001b[0;32m      8\u001b[0m df[\u001b[38;5;124m'\u001b[39m\u001b[38;5;124mDay_of_Week\u001b[39m\u001b[38;5;124m'\u001b[39m]\u001b[38;5;241m.\u001b[39mfillna(df[\u001b[38;5;124m'\u001b[39m\u001b[38;5;124mDay_of_Week\u001b[39m\u001b[38;5;124m'\u001b[39m]\u001b[38;5;241m.\u001b[39mmean(), inplace\u001b[38;5;241m=\u001b[39m\u001b[38;5;28;01mTrue\u001b[39;00m)\n\u001b[1;32m----> 9\u001b[0m df[\u001b[38;5;124m'\u001b[39m\u001b[38;5;124mLocal_Authority_(District)\t\u001b[39m\u001b[38;5;124m'\u001b[39m]\u001b[38;5;241m.\u001b[39mfillna(df[\u001b[38;5;124m'\u001b[39m\u001b[38;5;124mLocal_Authority_(District)\t\u001b[39m\u001b[38;5;124m'\u001b[39m]\u001b[38;5;241m.\u001b[39mmean(), inplace\u001b[38;5;241m=\u001b[39m\u001b[38;5;28;01mTrue\u001b[39;00m)\n\u001b[0;32m     10\u001b[0m df[\u001b[38;5;124m'\u001b[39m\u001b[38;5;124mLocal_Authority_(Highway)\t\u001b[39m\u001b[38;5;124m'\u001b[39m]\u001b[38;5;241m.\u001b[39mfillna(df[\u001b[38;5;124m'\u001b[39m\u001b[38;5;124mLocal_Authority_(Highway)\t\u001b[39m\u001b[38;5;124m'\u001b[39m]\u001b[38;5;241m.\u001b[39mmean(), inplace\u001b[38;5;241m=\u001b[39m\u001b[38;5;28;01mTrue\u001b[39;00m)\n\u001b[0;32m     11\u001b[0m df[\u001b[38;5;124m'\u001b[39m\u001b[38;5;124mAccident_Index\u001b[39m\u001b[38;5;124m'\u001b[39m]\u001b[38;5;241m.\u001b[39mfillna(df[\u001b[38;5;124m'\u001b[39m\u001b[38;5;124mAccident_Index\u001b[39m\u001b[38;5;124m'\u001b[39m]\u001b[38;5;241m.\u001b[39mmean(), inplace\u001b[38;5;241m=\u001b[39m\u001b[38;5;28;01mTrue\u001b[39;00m)\n",
      "File \u001b[1;32m~\\anaconda3\\Lib\\site-packages\\pandas\\core\\frame.py:4102\u001b[0m, in \u001b[0;36mDataFrame.__getitem__\u001b[1;34m(self, key)\u001b[0m\n\u001b[0;32m   4100\u001b[0m \u001b[38;5;28;01mif\u001b[39;00m \u001b[38;5;28mself\u001b[39m\u001b[38;5;241m.\u001b[39mcolumns\u001b[38;5;241m.\u001b[39mnlevels \u001b[38;5;241m>\u001b[39m \u001b[38;5;241m1\u001b[39m:\n\u001b[0;32m   4101\u001b[0m     \u001b[38;5;28;01mreturn\u001b[39;00m \u001b[38;5;28mself\u001b[39m\u001b[38;5;241m.\u001b[39m_getitem_multilevel(key)\n\u001b[1;32m-> 4102\u001b[0m indexer \u001b[38;5;241m=\u001b[39m \u001b[38;5;28mself\u001b[39m\u001b[38;5;241m.\u001b[39mcolumns\u001b[38;5;241m.\u001b[39mget_loc(key)\n\u001b[0;32m   4103\u001b[0m \u001b[38;5;28;01mif\u001b[39;00m is_integer(indexer):\n\u001b[0;32m   4104\u001b[0m     indexer \u001b[38;5;241m=\u001b[39m [indexer]\n",
      "File \u001b[1;32m~\\anaconda3\\Lib\\site-packages\\pandas\\core\\indexes\\base.py:3812\u001b[0m, in \u001b[0;36mIndex.get_loc\u001b[1;34m(self, key)\u001b[0m\n\u001b[0;32m   3807\u001b[0m     \u001b[38;5;28;01mif\u001b[39;00m \u001b[38;5;28misinstance\u001b[39m(casted_key, \u001b[38;5;28mslice\u001b[39m) \u001b[38;5;129;01mor\u001b[39;00m (\n\u001b[0;32m   3808\u001b[0m         \u001b[38;5;28misinstance\u001b[39m(casted_key, abc\u001b[38;5;241m.\u001b[39mIterable)\n\u001b[0;32m   3809\u001b[0m         \u001b[38;5;129;01mand\u001b[39;00m \u001b[38;5;28many\u001b[39m(\u001b[38;5;28misinstance\u001b[39m(x, \u001b[38;5;28mslice\u001b[39m) \u001b[38;5;28;01mfor\u001b[39;00m x \u001b[38;5;129;01min\u001b[39;00m casted_key)\n\u001b[0;32m   3810\u001b[0m     ):\n\u001b[0;32m   3811\u001b[0m         \u001b[38;5;28;01mraise\u001b[39;00m InvalidIndexError(key)\n\u001b[1;32m-> 3812\u001b[0m     \u001b[38;5;28;01mraise\u001b[39;00m \u001b[38;5;167;01mKeyError\u001b[39;00m(key) \u001b[38;5;28;01mfrom\u001b[39;00m \u001b[38;5;21;01merr\u001b[39;00m\n\u001b[0;32m   3813\u001b[0m \u001b[38;5;28;01mexcept\u001b[39;00m \u001b[38;5;167;01mTypeError\u001b[39;00m:\n\u001b[0;32m   3814\u001b[0m     \u001b[38;5;66;03m# If we have a listlike key, _check_indexing_error will raise\u001b[39;00m\n\u001b[0;32m   3815\u001b[0m     \u001b[38;5;66;03m#  InvalidIndexError. Otherwise we fall through and re-raise\u001b[39;00m\n\u001b[0;32m   3816\u001b[0m     \u001b[38;5;66;03m#  the TypeError.\u001b[39;00m\n\u001b[0;32m   3817\u001b[0m     \u001b[38;5;28mself\u001b[39m\u001b[38;5;241m.\u001b[39m_check_indexing_error(key)\n",
      "\u001b[1;31mKeyError\u001b[0m: 'Local_Authority_(District)\\t'"
     ]
    }
   ],
   "source": [
    "df['Accident_Index'].fillna(df['Accident_Index'].mean(), inplace=True)\n",
    "df['longitude'].fillna(df['longitude'].mean(), inplace=True)\n",
    "df['latitude'].fillna(df['latitude'].mean(), inplace=True)\n",
    "df['Police_Force'].fillna(df['Police_Force'].mean(), inplace=True)\n",
    "df['Accident_Severity'].fillna(df['Accident_Severity'].mean(), inplace=True)\n",
    "df['Number_of_Vehicles'].fillna(df['Number_of_Vehicles'].mean(), inplace=True)\n",
    "df['Number_of_Casualties'].fillna(df['Number_of_Casualties'].mean(), inplace=True)\n",
    "df['Day_of_Week'].fillna(df['Day_of_Week'].mean(), inplace=True)\n",
    "df['Local_Authority_(District)\t'].fillna(df['Local_Authority_(District)\t'].mean(), inplace=True)\n",
    "df['Local_Authority_(Highway)\t'].fillna(df['Local_Authority_(Highway)\t'].mean(), inplace=True)\n",
    "df['Accident_Index'].fillna(df['Accident_Index'].mean(), inplace=True)\n",
    "df['Accident_Index'].fillna(df['Accident_Index'].mean(), inplace=True)\n",
    "df['Accident_Index'].fillna(df['Accident_Index'].mean(), inplace=True)\n",
    "df['Accident_Index'].fillna(df['Accident_Index'].mean(), inplace=True)\n",
    "df['Accident_Index'].fillna(df['Accident_Index'].mean(), inplace=True)\n",
    "df['Accident_Index'].fillna(df['Accident_Index'].mean(), inplace=True)\n",
    "df['Accident_Index'].fillna(df['Accident_Index'].mean(), inplace=True)\n",
    "df['Accident_Index'].fillna(df['Accident_Index'].mean(), inplace=True)\n",
    "df['Accident_Index'].fillna(df['Accident_Index'].mean(), inplace=True)\n",
    "df['Accident_Index'].fillna(df['Accident_Index'].mean(), inplace=True)\n",
    "df['Accident_Index'].fillna(df['Accident_Index'].mean(), inplace=True)\n",
    "df['Accident_Index'].fillna(df['Accident_Index'].mean(), inplace=True)\n",
    "df['Accident_Index'].fillna(df['Accident_Index'].mean(), inplace=True)\n",
    "df['Accident_Index'].fillna(df['Accident_Index'].mean(), inplace=True)\n",
    "df['Accident_Index'].fillna(df['Accident_Index'].mean(), inplace=True)\n",
    "df['Accident_Index'].fillna(df['Accident_Index'].mean(), inplace=True)\n",
    "df['Accident_Index'].fillna(df['Accident_Index'].mean(), inplace=True)\n",
    "df['Accident_Index'].fillna(df['Accident_Index'].mean(), inplace=True)\n",
    "df['Accident_Index'].fillna(df['Accident_Index'].mean(), inplace=True)\n",
    "df['Accident_Index'].fillna(df['Accident_Index'].mean(), inplace=True)\n",
    "df['Accident_Index'].fillna(df['Accident_Index'].mean(), inplace=True)\n",
    "df['Accident_Index'].fillna(df['Accident_Index'].mean(), inplace=True)\n",
    "df['Accident_Index'].fillna(df['Accident_Index'].mean(), inplace=True)\n",
    "df['Accident_Index'].fillna(df['Accident_Index'].mean(), inplace=True)\n",
    "df['Accident_Index'].fillna(df['Accident_Index'].mean(), inplace=True)\n",
    "df['Accident_Index'].fillna(df['Accident_Index'].mean(), inplace=True)"
   ]
  },
  {
   "cell_type": "code",
   "execution_count": null,
   "id": "019820eb-d039-439a-932b-ba22411fce10",
   "metadata": {},
   "outputs": [],
   "source": [
    "df"
   ]
  },
  {
   "cell_type": "code",
   "execution_count": null,
   "id": "e976c92e-4aea-476e-bea8-812f0afe91f3",
   "metadata": {},
   "outputs": [],
   "source": [
    "for column in df.select_dtypes(include=['number']).columns:\n",
    "    df[column].fillna(df[column].mean(), inplace=True)"
   ]
  },
  {
   "cell_type": "code",
   "execution_count": null,
   "id": "d8a80c28-a3bb-4519-80e9-c416c222ea92",
   "metadata": {},
   "outputs": [],
   "source": [
    "df"
   ]
  },
  {
   "cell_type": "code",
   "execution_count": null,
   "id": "7e9eead4-8228-4e2c-9095-d125d05bdd66",
   "metadata": {},
   "outputs": [],
   "source": [
    "df.to_csv(\"New_data.csv\")"
   ]
  },
  {
   "cell_type": "code",
   "execution_count": 10,
   "id": "00af227d-fbc2-4155-a923-4a119b64b4c5",
   "metadata": {},
   "outputs": [],
   "source": [
    "n = df.head()"
   ]
  },
  {
   "cell_type": "code",
   "execution_count": 11,
   "id": "c974447e-df5d-42aa-ab6b-940de05e909e",
   "metadata": {},
   "outputs": [],
   "source": [
    "n.to_csv(\"ii.csv\")"
   ]
  },
  {
   "cell_type": "code",
   "execution_count": 16,
   "id": "cc1496de-0c9f-4b93-828a-9ec0a3096a63",
   "metadata": {},
   "outputs": [],
   "source": [
    "import pandas as pd\n",
    "\n",
    "# Function to clean the data\n",
    "def clean_data(file_path, output_path=\"cleaned_data.csv\"):\n",
    "    try:\n",
    "        # Read the CSV file\n",
    "        df = pd.read_csv(file_path)\n",
    "        print(\"Data successfully loaded.\")\n",
    "\n",
    "        # Step 1: Remove rows with all NaN values\n",
    "        df = df.dropna(how='all')\n",
    "        print(\"Dropped rows with all NaN values.\")\n",
    "\n",
    "        # Step 2: Fill missing values (you can customize the method)\n",
    "        df = df.fillna(method='ffill').fillna(method='bfill')\n",
    "        print(\"Filled missing values.\")\n",
    "\n",
    "        # Step 3: Remove duplicate rows\n",
    "        df = df.drop_duplicates()\n",
    "        print(\"Removed duplicate rows.\")\n",
    "\n",
    "        # Step 4: Standardize column names\n",
    "        df.columns = [col.strip().lower().replace(\" \", \"_\") for col in df.columns]\n",
    "        print(\"Standardized column names.\")\n",
    "\n",
    "        # Save cleaned data to a CSV file\n",
    "        df.to_csv(output_path, index=False)\n",
    "        print(f\"Cleaned data saved to {output_path}.\")\n",
    "\n",
    "    except Exception as e:\n",
    "        print(f\"An error occurred: {e}\")\n",
    "\n"
   ]
  },
  {
   "cell_type": "code",
   "execution_count": 17,
   "id": "78771015-c29e-42d7-8174-5a5b060a5b9f",
   "metadata": {},
   "outputs": [
    {
     "name": "stderr",
     "output_type": "stream",
     "text": [
      "D:\\temp\\ipykernel_7064\\2390075945.py:7: DtypeWarning: Columns (8,10,28,29) have mixed types. Specify dtype option on import or set low_memory=False.\n",
      "  df = pd.read_csv(file_path)\n"
     ]
    },
    {
     "name": "stdout",
     "output_type": "stream",
     "text": [
      "Data successfully loaded.\n",
      "Dropped rows with all NaN values.\n"
     ]
    },
    {
     "name": "stderr",
     "output_type": "stream",
     "text": [
      "D:\\temp\\ipykernel_7064\\2390075945.py:15: FutureWarning: DataFrame.fillna with 'method' is deprecated and will raise in a future version. Use obj.ffill() or obj.bfill() instead.\n",
      "  df = df.fillna(method='ffill').fillna(method='bfill')\n"
     ]
    },
    {
     "name": "stdout",
     "output_type": "stream",
     "text": [
      "Filled missing values.\n",
      "Removed duplicate rows.\n",
      "Standardized column names.\n",
      "Cleaned data saved to cleaned_data.csv.\n"
     ]
    }
   ],
   "source": [
    "# Specify the file path\n",
    "input_file_path = \"AccidentsBig.csv\"  # Replace with your file path\n",
    "output_file_path = \"cleaned_data.csv\"    # Replace with desired output file path\n",
    "\n",
    "# Call the cleaning function\n",
    "clean_data(input_file_path, output_file_path)\n"
   ]
  },
  {
   "cell_type": "code",
   "execution_count": null,
   "id": "35437058-ad73-4192-af7f-5da9a77bf957",
   "metadata": {},
   "outputs": [],
   "source": []
  }
 ],
 "metadata": {
  "kernelspec": {
   "display_name": "Python 3 (ipykernel)",
   "language": "python",
   "name": "python3"
  },
  "language_info": {
   "codemirror_mode": {
    "name": "ipython",
    "version": 3
   },
   "file_extension": ".py",
   "mimetype": "text/x-python",
   "name": "python",
   "nbconvert_exporter": "python",
   "pygments_lexer": "ipython3",
   "version": "3.12.7"
  }
 },
 "nbformat": 4,
 "nbformat_minor": 5
}
